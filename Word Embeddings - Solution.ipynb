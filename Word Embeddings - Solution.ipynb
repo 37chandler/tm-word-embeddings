{
 "cells": [
  {
   "cell_type": "markdown",
   "metadata": {},
   "source": [
    "### Using Word Embeddings\n",
    "\n",
    "Word embeddings, numerical representations of words based on deep learning neural networks, have revolutionized natural language processing over the last eight years. Literally, every application of NLP has been transformed by this technology. We'll start modestly, using the numerical notion of distance to understand political speech. \n",
    "\n",
    "Our goal is multi-step: \n",
    "\n",
    "1. Scrape all speeches from the DNC and RNC national conventions. Good news, that's already done.\n",
    "1. Convert each speech giver in a numeric value, based on the words they delivered at the convention.\n",
    "1. Measure their distance to the speeches of Donald Trump and Joe Biden.\n",
    "1. Visualize speech givers along these dimensions.\n",
    "\n",
    "A good reference for word embeddings in spaCy can be found in [the documentation](https://spacy.io/usage/vectors-similarity). "
   ]
  },
  {
   "cell_type": "code",
   "execution_count": 1,
   "metadata": {},
   "outputs": [],
   "source": [
    "import sqlite3\n",
    "from collections import defaultdict\n",
    "import spacy\n",
    "\n",
    "import numpy as np\n",
    "import pandas as pd\n",
    "import matplotlib.pyplot as plt\n"
   ]
  },
  {
   "cell_type": "code",
   "execution_count": 2,
   "metadata": {},
   "outputs": [],
   "source": [
    "# Load the parser up here, so we don't keep reloading it as \n",
    "# we run cells down below.\n",
    "nlp = spacy.load(\"en_core_web_md\")"
   ]
  },
  {
   "cell_type": "markdown",
   "metadata": {},
   "source": [
    "## Gather the Data\n",
    "\n",
    "Let's query the database (a copy of which is up on Moodle) and create a dictionary to store the data. The key should be the speaker and the value should be a string containing _everything_ they said at the convention."
   ]
  },
  {
   "cell_type": "code",
   "execution_count": 4,
   "metadata": {},
   "outputs": [],
   "source": [
    "db = sqlite3.connect(\"2020_Conventions.db\")\n",
    "cur = db.cursor()"
   ]
  },
  {
   "cell_type": "code",
   "execution_count": 5,
   "metadata": {},
   "outputs": [],
   "source": [
    "convention_data = cur.execute(\"\"\"\n",
    "                                SELECT speaker, party, text \n",
    "                                FROM conventions\n",
    "                                \"\"\")\n"
   ]
  },
  {
   "cell_type": "code",
   "execution_count": 6,
   "metadata": {},
   "outputs": [],
   "source": [
    "speeches = defaultdict(str)\n",
    "party_lu = defaultdict(str)\n",
    "\n",
    "for item in convention_data :\n",
    "    speaker, party, text = item\n",
    "    \n",
    "    speeches[speaker] = \" \".join([speeches[speaker],text]).strip() \n",
    "    party_lu[speaker] = party"
   ]
  },
  {
   "cell_type": "markdown",
   "metadata": {},
   "source": [
    "Some people appeared in both conventions via video clips. Let's make sure they all have the correct party."
   ]
  },
  {
   "cell_type": "code",
   "execution_count": 7,
   "metadata": {},
   "outputs": [],
   "source": [
    "party_lu[\"Donald Trump\"] = \"Republican\"\n",
    "party_lu[\"Andrew Cuomo\"] = \"Democratic\"\n",
    "party_lu[\"Joe Biden\"] = \"Democratic\"\n",
    "party_lu[\"Nancy Pelosi\"] = \"Democratic\""
   ]
  },
  {
   "cell_type": "markdown",
   "metadata": {},
   "source": [
    "Let's remove any speaker who spoke fewer than `length_cutoff` words at the convention or whose name we don't know."
   ]
  },
  {
   "cell_type": "code",
   "execution_count": 8,
   "metadata": {},
   "outputs": [],
   "source": [
    "length_cutoff = 100\n",
    "to_remove = []\n",
    "num_removed = 0\n",
    "num_kept = 0\n",
    "\n",
    "for speaker, text in speeches.items() :\n",
    "    text_len = len(text.split())\n",
    "    \n",
    "    if (text_len < length_cutoff or \n",
    "        \"Speaker\" in speaker or \n",
    "        \"Unknown\" in speaker) :\n",
    "        num_removed += 1\n",
    "        to_remove.append(speaker)\n",
    "    else :\n",
    "        num_kept += 1"
   ]
  },
  {
   "cell_type": "code",
   "execution_count": 9,
   "metadata": {},
   "outputs": [
    {
     "name": "stdout",
     "output_type": "stream",
     "text": [
      "239\n"
     ]
    }
   ],
   "source": [
    "print(num_kept)"
   ]
  },
  {
   "cell_type": "code",
   "execution_count": 10,
   "metadata": {},
   "outputs": [
    {
     "name": "stdout",
     "output_type": "stream",
     "text": [
      "317\n"
     ]
    }
   ],
   "source": [
    "print(num_removed)"
   ]
  },
  {
   "cell_type": "code",
   "execution_count": 11,
   "metadata": {},
   "outputs": [],
   "source": [
    "for speaker in to_remove :\n",
    "    del speeches[speaker]\n"
   ]
  },
  {
   "cell_type": "code",
   "execution_count": 12,
   "metadata": {},
   "outputs": [],
   "source": [
    "db.close()"
   ]
  },
  {
   "cell_type": "markdown",
   "metadata": {},
   "source": [
    "## Creating a Numeric Vector\n",
    "\n",
    "Now let's turn each speaker into a numeric vector. There are many ways we could potentially do this. We'll follow one of the most straightforward. We'll do some cleaning, convert each word of their speech into a vector, and average those vectors. \n",
    "\n",
    "We'll use the spaCy library's vectorization of words. Note that the small library (`en_core_web_sm`), doesn't include the word vectorization, so you'll need to have downloaded either the medium or large model. You can do this at the command line by running `python -m spacy download en_core_web_md`. The large model is _large_; it'll take a long time to download.\n",
    "\n",
    "For cleaning, there are a variety of things we could try: \n",
    "\n",
    "* Removing stopwords using the `token.is_stop` attribute in spaCy.\n",
    "* Removing punctuation using `token.is_punct`\n",
    "* Keeping only certain parts of speech (like nouns and/or verbs)\n",
    "\n",
    "We're going to take these averages, but let's first play around with one person's speech and the tokens from it."
   ]
  },
  {
   "cell_type": "code",
   "execution_count": 13,
   "metadata": {},
   "outputs": [],
   "source": [
    "text = speeches[\"Michelle Obama\"]\n",
    "tokens = nlp(text)\n",
    "token = tokens[8]"
   ]
  },
  {
   "cell_type": "code",
   "execution_count": 14,
   "metadata": {},
   "outputs": [
    {
     "name": "stdout",
     "output_type": "stream",
     "text": [
      "country\n",
      "[ 7.3677e-02  5.2156e-01  3.1504e-01 -2.5743e-01  6.3185e-01 -1.4061e-01\n",
      "  4.4108e-02  5.5817e-02 -4.5327e-01  3.3915e+00 -8.8491e-01  1.4696e-02\n",
      " -4.4164e-01 -2.7146e-01  6.5846e-02 -1.4115e-01 -1.8359e-01  5.5882e-01\n",
      "  3.4735e-01  4.9206e-01 -2.9363e-01  1.5864e-01  1.8245e-01  2.4616e-01\n",
      " -5.4651e-02 -2.6116e-01 -2.0582e-01  1.7782e-01 -2.3421e-01  2.0985e-01\n",
      "  3.4395e-01 -7.5486e-03  1.1200e-01 -4.3141e-01  7.9923e-02 -1.0038e-01\n",
      " -1.5685e-01 -2.8106e-01  1.3058e-01  4.1862e-01 -8.8605e-02  2.7584e-01\n",
      "  2.5731e-01  1.9394e-01 -2.0442e-01 -4.4856e-01  4.8795e-01 -2.4139e-01\n",
      "  9.9646e-02 -3.3894e-01 -6.3024e-01  2.4977e-01 -4.6698e-02 -3.4425e-01\n",
      "  3.9504e-01 -1.0694e-01  1.5900e-01 -2.0601e-01  3.7994e-01 -1.8441e-01\n",
      " -1.1135e-02  4.4415e-01 -1.6894e-01  4.8023e-01 -1.4859e-01  2.5886e-01\n",
      " -1.5207e-01  6.8721e-02  3.1572e-01  9.3189e-02 -1.5450e-01  1.5372e-01\n",
      "  8.5520e-02  7.5760e-02  3.7679e-02 -1.1032e-01 -4.6535e-01  6.0151e-02\n",
      "  2.2266e-01 -5.7096e-02  2.4310e-01  7.7502e-02 -2.7466e-02  2.2253e-01\n",
      "  6.3764e-02 -1.1032e-01 -5.1599e-01 -2.6317e-01  2.4936e-01  6.5643e-02\n",
      " -6.3565e-01  4.2987e-01 -2.9761e-02  3.4310e-01  3.6958e-01 -1.4985e-01\n",
      " -1.0331e-02  3.5013e-01  2.3337e-01 -2.6436e-02  5.8446e-02  2.4483e-01\n",
      "  6.2583e-02 -8.0011e-02  2.8214e-02 -1.2912e+00 -1.8775e-01 -6.0695e-01\n",
      " -6.3716e-03  1.4873e-01  2.6929e-02  1.5888e-01 -3.2923e-01  7.3494e-02\n",
      " -2.1069e-01  1.9517e-01  4.3057e-01  2.2497e-01 -3.8262e-01 -2.2372e-01\n",
      " -1.5670e-01  4.0250e-01 -3.7874e-03 -2.9402e-01 -1.0453e-01  1.4050e-01\n",
      "  3.7299e-01 -1.3432e-01  1.8656e-01  1.2897e-01  1.3341e-01  2.1084e-01\n",
      " -1.5417e-01  2.3159e-01  1.4429e-01 -5.6674e-02 -1.5820e-01 -9.0158e-02\n",
      "  1.5389e-01  2.0603e-02 -1.2563e+00 -7.2555e-02  4.7897e-01 -1.1825e-01\n",
      " -1.3344e-01 -3.2498e-01  3.1805e-01  3.6749e-01 -6.3748e-02 -3.3200e-02\n",
      " -7.8104e-02  5.4223e-01  1.7810e-01  3.1970e-02  1.3234e-01 -2.0405e-01\n",
      "  1.3638e-01  1.5627e-01 -1.8841e-01  1.6863e-01  2.8886e-01  6.3842e-01\n",
      "  3.4370e-01  2.6142e-01 -2.7519e-01 -8.1966e-02  1.8173e-01 -7.9317e-01\n",
      "  2.9495e-01 -8.9134e-02 -2.5122e-02 -6.2730e-02 -4.3742e-01 -9.4726e-02\n",
      "  2.3308e-01 -3.1573e-03 -2.4452e-01 -1.6524e-01  3.3000e-01  2.2750e-01\n",
      " -5.5493e-02  2.2030e-01 -3.4697e-02 -1.6371e-01 -3.0245e-02 -2.1101e-01\n",
      " -3.8922e-03 -6.0171e-01  2.5657e-01 -7.7900e-02  4.8353e-02 -1.2459e-01\n",
      "  4.3748e-01 -3.2650e-01 -4.4642e-01 -2.6771e-01 -2.6969e-01  1.0791e-02\n",
      "  1.2442e-01 -1.4951e-01  7.3467e-02  2.7785e-01 -9.9041e-02  4.7987e-01\n",
      "  8.1533e-01 -8.6449e-02  1.0389e-01 -1.3790e-01  3.2915e-01 -4.2558e-01\n",
      " -1.4294e-02 -1.0049e-01  2.0973e-01  1.8192e-01  3.5562e-02  2.0906e-01\n",
      " -2.5884e-01  3.5913e-02 -3.9429e-01  4.0285e-01 -9.9147e-02  4.2667e-01\n",
      "  1.6450e-01 -3.7389e-02  2.1325e-01  2.3748e-01  1.8422e-01  4.8579e-02\n",
      " -1.5025e-01  4.0550e-01 -1.6716e-01  1.5850e-01  1.3047e-01 -2.7072e-01\n",
      " -1.6372e-01 -1.2832e-01 -2.9426e-01 -3.2611e-01 -1.2043e-01 -3.1426e-02\n",
      " -5.2571e-01  6.9698e-02  2.6968e-01  2.3319e-01 -2.3935e-02 -1.3453e-01\n",
      "  3.6339e-01  2.8202e-02 -2.4358e-01 -3.6910e-01  5.0481e-01  1.7517e-01\n",
      "  3.0220e-01  3.0645e-01 -3.1637e-01  5.5520e-01  4.2868e-01  4.9956e-03\n",
      " -6.5471e-01  4.0311e-01 -3.1145e-01  1.3433e-01 -1.5962e-01  7.6983e-02\n",
      " -8.0440e-02 -5.7552e-01 -2.4244e-01 -9.1352e-02  6.6212e-02  2.1943e-01\n",
      " -2.7501e-01 -7.3063e-03 -2.5534e-01 -4.3932e-01  1.3570e-01  5.0314e-02\n",
      "  5.1101e-02  1.9769e-01  3.5440e-01 -4.9134e-01 -3.5106e-01  1.5612e-02\n",
      " -3.3875e-01  1.7543e-01  6.5076e-02 -2.6565e-01  2.1258e-01  6.5287e-02\n",
      " -1.1036e-01  2.8950e-02 -1.9406e-01 -1.3524e-01 -2.1956e-01 -4.6050e-01\n",
      "  1.3587e-01 -1.5926e-01  5.9141e-02  3.6609e-02 -1.2966e-01  1.6430e-01]\n"
     ]
    }
   ],
   "source": [
    "print(token)\n",
    "print(token.vector)"
   ]
  },
  {
   "cell_type": "code",
   "execution_count": 15,
   "metadata": {},
   "outputs": [
    {
     "data": {
      "text/plain": [
       "(300,)"
      ]
     },
     "execution_count": 15,
     "metadata": {},
     "output_type": "execute_result"
    }
   ],
   "source": [
    "token.vector.shape"
   ]
  },
  {
   "cell_type": "markdown",
   "metadata": {},
   "source": [
    "Let's iterate over all the tokens in Michelle Obama's speeches and build an average word vector for her. I've set up an empty numpy array of the proper length. Let's sum up the vectors in that score vector. If you divide by the number of tokens you'll get the average word vector. "
   ]
  },
  {
   "cell_type": "code",
   "execution_count": 16,
   "metadata": {},
   "outputs": [
    {
     "name": "stdout",
     "output_type": "stream",
     "text": [
      "1.1034043321105758\n"
     ]
    }
   ],
   "source": [
    "score = np.zeros(300)\n",
    "token_count = 0\n",
    "\n",
    "for token in tokens :\n",
    "    score += token.vector\n",
    "    token_count += 1\n",
    "    \n",
    "score = score/token_count\n",
    "    \n",
    "print(sum(score))"
   ]
  },
  {
   "cell_type": "markdown",
   "metadata": {},
   "source": [
    "We can do this more quickly by taking advantage of list comprehensions (making a list of vectors) and simply applying `np.mean` across the list. "
   ]
  },
  {
   "cell_type": "code",
   "execution_count": 17,
   "metadata": {},
   "outputs": [],
   "source": [
    "word_vector_list = [token.vector for token in tokens]"
   ]
  },
  {
   "cell_type": "code",
   "execution_count": 18,
   "metadata": {},
   "outputs": [
    {
     "name": "stdout",
     "output_type": "stream",
     "text": [
      "1.1034019\n"
     ]
    }
   ],
   "source": [
    "average_word_vector = np.mean(word_vector_list, axis=0)\n",
    "\n",
    "# check that the sum is the same as the other way\n",
    "print(average_word_vector.sum())"
   ]
  },
  {
   "cell_type": "markdown",
   "metadata": {},
   "source": [
    "Now let's calculate these average word vectors for each speaker. "
   ]
  },
  {
   "cell_type": "code",
   "execution_count": 19,
   "metadata": {},
   "outputs": [],
   "source": [
    "scores = defaultdict(np.array)\n",
    "\n",
    "for speaker, text in speeches.items() :\n",
    "\n",
    "    tokens = nlp(text)\n",
    "    tokens = [t for t in tokens if not t.is_stop and not t.is_punct and t]\n",
    "    #tokens = [t for t in tokens if t.pos_ in ['NOUN','VERB']]\n",
    "    \n",
    "    word_vector_list = [token.vector for token in tokens]\n",
    "    scores[speaker] = np.mean(word_vector_list, axis=0)\n",
    "    \n",
    "    \n",
    "        "
   ]
  },
  {
   "cell_type": "markdown",
   "metadata": {},
   "source": [
    "## Measuring Distance\n",
    "\n",
    "Now we'll create two numpy arrays that measure the distance between each speaker and the presidental candiates. For reasons we'll discuss in class, the cosine similariy is the overwhelming choice for text data. The cosine distance measures the angle between the vectors, disregarding the magnitude of the vectors. As you may recall from high school algebra, one formula for the cosine, and the one we'll use, is this: \n",
    "\n",
    "$$\n",
    "    \\cos(a,b) = \\frac{a \\cdot b}{||a||\\cdot||b||}\n",
    "$$"
   ]
  },
  {
   "cell_type": "code",
   "execution_count": 20,
   "metadata": {},
   "outputs": [],
   "source": [
    "def cosine_dist(a,b) :\n",
    "    dist = np.dot(a,b)/(np.linalg.norm(a)*np.linalg.norm(b))\n",
    "    return(dist)"
   ]
  },
  {
   "cell_type": "code",
   "execution_count": 21,
   "metadata": {},
   "outputs": [],
   "source": [
    "trump_dists = np.zeros(len(scores))\n",
    "biden_dists = np.zeros(len(scores))\n",
    "speakers = []\n",
    "party = []\n",
    "\n",
    "for idx, speaker in enumerate(scores) :\n",
    "    this_vec = scores[speaker]\n",
    "    speakers.append(speaker)\n",
    "    party.append(party_lu[speaker])\n",
    "    \n",
    "    trump_dists[idx] = cosine_dist(scores[\"Donald Trump\"],this_vec)\n",
    "    biden_dists[idx] = cosine_dist(scores[\"Joe Biden\"],this_vec)\n",
    "        "
   ]
  },
  {
   "cell_type": "markdown",
   "metadata": {},
   "source": [
    "spaCy includes a similarity measure based on the cosine distance. You can feed two tokens in and receive the similarity score between them. How could you potentially use this functionality to measure the similarity between speakers?"
   ]
  },
  {
   "cell_type": "code",
   "execution_count": 22,
   "metadata": {},
   "outputs": [
    {
     "name": "stdout",
     "output_type": "stream",
     "text": [
      "0.5337057376173076\n",
      "0.8016854705531046\n",
      "0.18886675407714953\n",
      "0.400489786535697\n"
     ]
    }
   ],
   "source": [
    "print(nlp(\"young\").similarity(nlp(\"old\")))\n",
    "print(nlp(\"dog\").similarity(nlp(\"cat\")))\n",
    "print(nlp(\"dog\").similarity(nlp(\"justice\")))\n",
    "print(nlp(\"inequality\").similarity(nlp(\"justice\")))"
   ]
  },
  {
   "cell_type": "markdown",
   "metadata": {},
   "source": [
    "Now let's visualize these distances to get a sense of the distributions."
   ]
  },
  {
   "cell_type": "code",
   "execution_count": 23,
   "metadata": {},
   "outputs": [
    {
     "data": {
      "text/plain": [
       "(array([ 1.,  0.,  0.,  0.,  0.,  0.,  0.,  0.,  0.,  0.,  0.,  0.,  0.,\n",
       "         0.,  0.,  0.,  0.,  0.,  0.,  0.,  0.,  0.,  0.,  0.,  0.,  0.,\n",
       "         0.,  0.,  0.,  1.,  0.,  0.,  0.,  0.,  0.,  0.,  0.,  0.,  1.,\n",
       "         0.,  0.,  2.,  0.,  0.,  0.,  1.,  2.,  0.,  1.,  0.,  0.,  0.,\n",
       "         1.,  1.,  2.,  2.,  2.,  2.,  2.,  2.,  5.,  5.,  0.,  2.,  5.,\n",
       "         3.,  5.,  4.,  4.,  6.,  9.,  7.,  9.,  6.,  5.,  3.,  6.,  8.,\n",
       "        10.,  5.,  6.,  3.,  2.,  9.,  9.,  4.,  8.,  9.,  6., 17.,  7.,\n",
       "         9.,  6.,  5.,  5.,  1.,  1.,  1.,  0.,  1.]),\n",
       " array([0.77294505, 0.7752156 , 0.77748615, 0.7797567 , 0.78202724,\n",
       "        0.78429779, 0.78656834, 0.78883889, 0.79110944, 0.79337999,\n",
       "        0.79565054, 0.79792109, 0.80019164, 0.80246219, 0.80473274,\n",
       "        0.80700329, 0.80927384, 0.81154439, 0.81381494, 0.81608549,\n",
       "        0.81835604, 0.82062659, 0.82289714, 0.82516769, 0.82743824,\n",
       "        0.82970878, 0.83197933, 0.83424988, 0.83652043, 0.83879098,\n",
       "        0.84106153, 0.84333208, 0.84560263, 0.84787318, 0.85014373,\n",
       "        0.85241428, 0.85468483, 0.85695538, 0.85922593, 0.86149648,\n",
       "        0.86376703, 0.86603758, 0.86830813, 0.87057868, 0.87284923,\n",
       "        0.87511978, 0.87739033, 0.87966087, 0.88193142, 0.88420197,\n",
       "        0.88647252, 0.88874307, 0.89101362, 0.89328417, 0.89555472,\n",
       "        0.89782527, 0.90009582, 0.90236637, 0.90463692, 0.90690747,\n",
       "        0.90917802, 0.91144857, 0.91371912, 0.91598967, 0.91826022,\n",
       "        0.92053077, 0.92280132, 0.92507187, 0.92734241, 0.92961296,\n",
       "        0.93188351, 0.93415406, 0.93642461, 0.93869516, 0.94096571,\n",
       "        0.94323626, 0.94550681, 0.94777736, 0.95004791, 0.95231846,\n",
       "        0.95458901, 0.95685956, 0.95913011, 0.96140066, 0.96367121,\n",
       "        0.96594176, 0.96821231, 0.97048286, 0.97275341, 0.97502396,\n",
       "        0.9772945 , 0.97956505, 0.9818356 , 0.98410615, 0.9863767 ,\n",
       "        0.98864725, 0.9909178 , 0.99318835, 0.9954589 , 0.99772945,\n",
       "        1.        ]),\n",
       " <a list of 100 Patch objects>)"
      ]
     },
     "execution_count": 23,
     "metadata": {},
     "output_type": "execute_result"
    },
    {
     "data": {
      "image/png": "[encoded data removed]",
      "text/plain": [
       "<Figure size 432x288 with 1 Axes>"
      ]
     },
     "metadata": {
      "needs_background": "light"
     },
     "output_type": "display_data"
    }
   ],
   "source": [
    "# matplotlib histogram\n",
    "plt.hist(trump_dists, \n",
    "         color = 'red', \n",
    "         edgecolor = 'black',\n",
    "         bins = 100)"
   ]
  },
  {
   "cell_type": "code",
   "execution_count": 24,
   "metadata": {},
   "outputs": [
    {
     "data": {
      "text/plain": [
       "(array([ 1.,  0.,  0.,  0.,  0.,  0.,  0.,  0.,  0.,  0.,  0.,  0.,  0.,\n",
       "         0.,  0.,  0.,  0.,  0.,  0.,  0.,  0.,  0.,  1.,  0.,  0.,  0.,\n",
       "         0.,  0.,  0.,  0.,  0.,  0.,  0.,  0.,  0.,  0.,  1.,  0.,  0.,\n",
       "         1.,  1.,  0.,  0.,  0.,  0.,  1.,  0.,  1.,  2.,  0.,  2.,  0.,\n",
       "         1.,  1.,  0.,  1.,  1.,  2.,  2.,  3.,  1.,  1.,  1.,  2.,  4.,\n",
       "         6.,  2.,  2.,  3.,  4.,  2.,  3.,  9.,  4.,  5.,  5., 10., 12.,\n",
       "         5.,  8.,  6.,  9.,  7.,  6., 10., 13.,  8., 11.,  4., 11., 11.,\n",
       "         7.,  7.,  5.,  7.,  1.,  2.,  2.,  0.,  1.]),\n",
       " array([0.7558887 , 0.75832981, 0.76077092, 0.76321204, 0.76565315,\n",
       "        0.76809426, 0.77053537, 0.77297648, 0.77541759, 0.77785871,\n",
       "        0.78029982, 0.78274093, 0.78518204, 0.78762315, 0.79006427,\n",
       "        0.79250538, 0.79494649, 0.7973876 , 0.79982871, 0.80226982,\n",
       "        0.80471094, 0.80715205, 0.80959316, 0.81203427, 0.81447538,\n",
       "        0.8169165 , 0.81935761, 0.82179872, 0.82423983, 0.82668094,\n",
       "        0.82912205, 0.83156317, 0.83400428, 0.83644539, 0.8388865 ,\n",
       "        0.84132761, 0.84376873, 0.84620984, 0.84865095, 0.85109206,\n",
       "        0.85353317, 0.85597428, 0.8584154 , 0.86085651, 0.86329762,\n",
       "        0.86573873, 0.86817984, 0.87062096, 0.87306207, 0.87550318,\n",
       "        0.87794429, 0.8803854 , 0.88282651, 0.88526763, 0.88770874,\n",
       "        0.89014985, 0.89259096, 0.89503207, 0.89747319, 0.8999143 ,\n",
       "        0.90235541, 0.90479652, 0.90723763, 0.90967874, 0.91211986,\n",
       "        0.91456097, 0.91700208, 0.91944319, 0.9218843 , 0.92432541,\n",
       "        0.92676653, 0.92920764, 0.93164875, 0.93408986, 0.93653097,\n",
       "        0.93897209, 0.9414132 , 0.94385431, 0.94629542, 0.94873653,\n",
       "        0.95117764, 0.95361876, 0.95605987, 0.95850098, 0.96094209,\n",
       "        0.9633832 , 0.96582432, 0.96826543, 0.97070654, 0.97314765,\n",
       "        0.97558876, 0.97802987, 0.98047099, 0.9829121 , 0.98535321,\n",
       "        0.98779432, 0.99023543, 0.99267655, 0.99511766, 0.99755877,\n",
       "        0.99999988]),\n",
       " <a list of 100 Patch objects>)"
      ]
     },
     "execution_count": 24,
     "metadata": {},
     "output_type": "execute_result"
    },
    {
     "data": {
      "image/png": "[encoded data removed]",
      "text/plain": [
       "<Figure size 432x288 with 1 Axes>"
      ]
     },
     "metadata": {
      "needs_background": "light"
     },
     "output_type": "display_data"
    }
   ],
   "source": [
    "# matplotlib histogram\n",
    "plt.hist(biden_dists, \n",
    "         color = 'blue', \n",
    "         edgecolor = 'black',\n",
    "         bins = 100)"
   ]
  },
  {
   "cell_type": "markdown",
   "metadata": {},
   "source": [
    "For both speakers, most similarities are quite high; the values range from zero to one. Let's figure out which speakers are closest to both Trump and Biden. One way to do this is to put everything in a data frame and do some sorting. "
   ]
  },
  {
   "cell_type": "code",
   "execution_count": 25,
   "metadata": {},
   "outputs": [],
   "source": [
    "distances = pd.DataFrame(list(zip(speakers,party, trump_dists.tolist(),biden_dists.tolist())),\n",
    "                         columns=[\"Speaker\",\"Party\",\"TrumpDist\",\"BidenDist\"])"
   ]
  },
  {
   "cell_type": "code",
   "execution_count": 26,
   "metadata": {},
   "outputs": [
    {
     "data": {
      "text/html": [
       "<div>\n",
       "<style scoped>\n",
       "    .dataframe tbody tr th:only-of-type {\n",
       "        vertical-align: middle;\n",
       "    }\n",
       "\n",
       "    .dataframe tbody tr th {\n",
       "        vertical-align: top;\n",
       "    }\n",
       "\n",
       "    .dataframe thead th {\n",
       "        text-align: right;\n",
       "    }\n",
       "</style>\n",
       "<table border=\"1\" class=\"dataframe\">\n",
       "  <thead>\n",
       "    <tr style=\"text-align: right;\">\n",
       "      <th></th>\n",
       "      <th>Speaker</th>\n",
       "      <th>Party</th>\n",
       "      <th>TrumpDist</th>\n",
       "      <th>BidenDist</th>\n",
       "    </tr>\n",
       "  </thead>\n",
       "  <tbody>\n",
       "    <tr>\n",
       "      <th>131</th>\n",
       "      <td>Trace Adkins</td>\n",
       "      <td>Republican</td>\n",
       "      <td>0.772945</td>\n",
       "      <td>0.755889</td>\n",
       "    </tr>\n",
       "    <tr>\n",
       "      <th>153</th>\n",
       "      <td>Maria Cardona</td>\n",
       "      <td>Democratic</td>\n",
       "      <td>0.840596</td>\n",
       "      <td>0.810221</td>\n",
       "    </tr>\n",
       "    <tr>\n",
       "      <th>100</th>\n",
       "      <td>Gino</td>\n",
       "      <td>Republican</td>\n",
       "      <td>0.859477</td>\n",
       "      <td>0.879753</td>\n",
       "    </tr>\n",
       "    <tr>\n",
       "      <th>151</th>\n",
       "      <td>Bennie Thompson</td>\n",
       "      <td>Democratic</td>\n",
       "      <td>0.867158</td>\n",
       "      <td>0.844989</td>\n",
       "    </tr>\n",
       "    <tr>\n",
       "      <th>223</th>\n",
       "      <td>Kyle</td>\n",
       "      <td>Democratic</td>\n",
       "      <td>0.867419</td>\n",
       "      <td>0.901772</td>\n",
       "    </tr>\n",
       "    <tr>\n",
       "      <th>52</th>\n",
       "      <td>Imam Al-Hajj Talib Abdur-Rashid</td>\n",
       "      <td>Democratic</td>\n",
       "      <td>0.875826</td>\n",
       "      <td>0.874294</td>\n",
       "    </tr>\n",
       "    <tr>\n",
       "      <th>13</th>\n",
       "      <td>Jim Roosevelt</td>\n",
       "      <td>Democratic</td>\n",
       "      <td>0.878443</td>\n",
       "      <td>0.853015</td>\n",
       "    </tr>\n",
       "    <tr>\n",
       "      <th>155</th>\n",
       "      <td>Julie Chavez Rodriguez</td>\n",
       "      <td>Democratic</td>\n",
       "      <td>0.879174</td>\n",
       "      <td>0.853666</td>\n",
       "    </tr>\n",
       "    <tr>\n",
       "      <th>62</th>\n",
       "      <td>Ghali</td>\n",
       "      <td>Republican</td>\n",
       "      <td>0.883254</td>\n",
       "      <td>0.875465</td>\n",
       "    </tr>\n",
       "    <tr>\n",
       "      <th>106</th>\n",
       "      <td>Candidates for naturalizaton</td>\n",
       "      <td>Republican</td>\n",
       "      <td>0.892249</td>\n",
       "      <td>0.867585</td>\n",
       "    </tr>\n",
       "  </tbody>\n",
       "</table>\n",
       "</div>"
      ],
      "text/plain": [
       "                             Speaker       Party  TrumpDist  BidenDist\n",
       "131                     Trace Adkins  Republican   0.772945   0.755889\n",
       "153                    Maria Cardona  Democratic   0.840596   0.810221\n",
       "100                             Gino  Republican   0.859477   0.879753\n",
       "151                  Bennie Thompson  Democratic   0.867158   0.844989\n",
       "223                             Kyle  Democratic   0.867419   0.901772\n",
       "52   Imam Al-Hajj Talib Abdur-Rashid  Democratic   0.875826   0.874294\n",
       "13                     Jim Roosevelt  Democratic   0.878443   0.853015\n",
       "155           Julie Chavez Rodriguez  Democratic   0.879174   0.853666\n",
       "62                             Ghali  Republican   0.883254   0.875465\n",
       "106     Candidates for naturalizaton  Republican   0.892249   0.867585"
      ]
     },
     "execution_count": 26,
     "metadata": {},
     "output_type": "execute_result"
    }
   ],
   "source": [
    "# Far from Trump\n",
    "distances.sort_values(\"TrumpDist\").head(n=10)"
   ]
  },
  {
   "cell_type": "code",
   "execution_count": 27,
   "metadata": {},
   "outputs": [
    {
     "data": {
      "text/html": [
       "<div>\n",
       "<style scoped>\n",
       "    .dataframe tbody tr th:only-of-type {\n",
       "        vertical-align: middle;\n",
       "    }\n",
       "\n",
       "    .dataframe tbody tr th {\n",
       "        vertical-align: top;\n",
       "    }\n",
       "\n",
       "    .dataframe thead th {\n",
       "        text-align: right;\n",
       "    }\n",
       "</style>\n",
       "<table border=\"1\" class=\"dataframe\">\n",
       "  <thead>\n",
       "    <tr style=\"text-align: right;\">\n",
       "      <th></th>\n",
       "      <th>Speaker</th>\n",
       "      <th>Party</th>\n",
       "      <th>TrumpDist</th>\n",
       "      <th>BidenDist</th>\n",
       "    </tr>\n",
       "  </thead>\n",
       "  <tbody>\n",
       "    <tr>\n",
       "      <th>60</th>\n",
       "      <td>Narrator</td>\n",
       "      <td>Republican</td>\n",
       "      <td>0.986358</td>\n",
       "      <td>0.972364</td>\n",
       "    </tr>\n",
       "    <tr>\n",
       "      <th>4</th>\n",
       "      <td>Joe Biden</td>\n",
       "      <td>Democratic</td>\n",
       "      <td>0.987339</td>\n",
       "      <td>1.000000</td>\n",
       "    </tr>\n",
       "    <tr>\n",
       "      <th>78</th>\n",
       "      <td>Nikki Haley</td>\n",
       "      <td>Republican</td>\n",
       "      <td>0.987374</td>\n",
       "      <td>0.979265</td>\n",
       "    </tr>\n",
       "    <tr>\n",
       "      <th>107</th>\n",
       "      <td>Eric Trump</td>\n",
       "      <td>Republican</td>\n",
       "      <td>0.987550</td>\n",
       "      <td>0.977181</td>\n",
       "    </tr>\n",
       "    <tr>\n",
       "      <th>149</th>\n",
       "      <td>Ivanka Trump</td>\n",
       "      <td>Republican</td>\n",
       "      <td>0.987721</td>\n",
       "      <td>0.990286</td>\n",
       "    </tr>\n",
       "    <tr>\n",
       "      <th>6</th>\n",
       "      <td>Barack Obama</td>\n",
       "      <td>Democratic</td>\n",
       "      <td>0.988619</td>\n",
       "      <td>0.993064</td>\n",
       "    </tr>\n",
       "    <tr>\n",
       "      <th>133</th>\n",
       "      <td>Kevin McCarthy</td>\n",
       "      <td>Republican</td>\n",
       "      <td>0.989419</td>\n",
       "      <td>0.987306</td>\n",
       "    </tr>\n",
       "    <tr>\n",
       "      <th>121</th>\n",
       "      <td>Madison Cawthorn</td>\n",
       "      <td>Republican</td>\n",
       "      <td>0.990918</td>\n",
       "      <td>0.988541</td>\n",
       "    </tr>\n",
       "    <tr>\n",
       "      <th>98</th>\n",
       "      <td>Mike Pence</td>\n",
       "      <td>Republican</td>\n",
       "      <td>0.994166</td>\n",
       "      <td>0.981896</td>\n",
       "    </tr>\n",
       "    <tr>\n",
       "      <th>28</th>\n",
       "      <td>Donald Trump</td>\n",
       "      <td>Republican</td>\n",
       "      <td>1.000000</td>\n",
       "      <td>0.987339</td>\n",
       "    </tr>\n",
       "  </tbody>\n",
       "</table>\n",
       "</div>"
      ],
      "text/plain": [
       "              Speaker       Party  TrumpDist  BidenDist\n",
       "60           Narrator  Republican   0.986358   0.972364\n",
       "4           Joe Biden  Democratic   0.987339   1.000000\n",
       "78        Nikki Haley  Republican   0.987374   0.979265\n",
       "107        Eric Trump  Republican   0.987550   0.977181\n",
       "149      Ivanka Trump  Republican   0.987721   0.990286\n",
       "6        Barack Obama  Democratic   0.988619   0.993064\n",
       "133    Kevin McCarthy  Republican   0.989419   0.987306\n",
       "121  Madison Cawthorn  Republican   0.990918   0.988541\n",
       "98         Mike Pence  Republican   0.994166   0.981896\n",
       "28       Donald Trump  Republican   1.000000   0.987339"
      ]
     },
     "execution_count": 27,
     "metadata": {},
     "output_type": "execute_result"
    }
   ],
   "source": [
    "# Close to Trump\n",
    "distances.sort_values(\"TrumpDist\").tail(n=10)"
   ]
  },
  {
   "cell_type": "code",
   "execution_count": 28,
   "metadata": {},
   "outputs": [
    {
     "data": {
      "text/html": [
       "<div>\n",
       "<style scoped>\n",
       "    .dataframe tbody tr th:only-of-type {\n",
       "        vertical-align: middle;\n",
       "    }\n",
       "\n",
       "    .dataframe tbody tr th {\n",
       "        vertical-align: top;\n",
       "    }\n",
       "\n",
       "    .dataframe thead th {\n",
       "        text-align: right;\n",
       "    }\n",
       "</style>\n",
       "<table border=\"1\" class=\"dataframe\">\n",
       "  <thead>\n",
       "    <tr style=\"text-align: right;\">\n",
       "      <th></th>\n",
       "      <th>Speaker</th>\n",
       "      <th>Party</th>\n",
       "      <th>TrumpDist</th>\n",
       "      <th>BidenDist</th>\n",
       "    </tr>\n",
       "  </thead>\n",
       "  <tbody>\n",
       "    <tr>\n",
       "      <th>131</th>\n",
       "      <td>Trace Adkins</td>\n",
       "      <td>Republican</td>\n",
       "      <td>0.772945</td>\n",
       "      <td>0.755889</td>\n",
       "    </tr>\n",
       "    <tr>\n",
       "      <th>153</th>\n",
       "      <td>Maria Cardona</td>\n",
       "      <td>Democratic</td>\n",
       "      <td>0.840596</td>\n",
       "      <td>0.810221</td>\n",
       "    </tr>\n",
       "    <tr>\n",
       "      <th>151</th>\n",
       "      <td>Bennie Thompson</td>\n",
       "      <td>Democratic</td>\n",
       "      <td>0.867158</td>\n",
       "      <td>0.844989</td>\n",
       "    </tr>\n",
       "    <tr>\n",
       "      <th>13</th>\n",
       "      <td>Jim Roosevelt</td>\n",
       "      <td>Democratic</td>\n",
       "      <td>0.878443</td>\n",
       "      <td>0.853015</td>\n",
       "    </tr>\n",
       "    <tr>\n",
       "      <th>155</th>\n",
       "      <td>Julie Chavez Rodriguez</td>\n",
       "      <td>Democratic</td>\n",
       "      <td>0.879174</td>\n",
       "      <td>0.853666</td>\n",
       "    </tr>\n",
       "    <tr>\n",
       "      <th>106</th>\n",
       "      <td>Candidates for naturalizaton</td>\n",
       "      <td>Republican</td>\n",
       "      <td>0.892249</td>\n",
       "      <td>0.867585</td>\n",
       "    </tr>\n",
       "    <tr>\n",
       "      <th>188</th>\n",
       "      <td>Intro</td>\n",
       "      <td>Democratic</td>\n",
       "      <td>0.901533</td>\n",
       "      <td>0.872890</td>\n",
       "    </tr>\n",
       "    <tr>\n",
       "      <th>52</th>\n",
       "      <td>Imam Al-Hajj Talib Abdur-Rashid</td>\n",
       "      <td>Democratic</td>\n",
       "      <td>0.875826</td>\n",
       "      <td>0.874294</td>\n",
       "    </tr>\n",
       "    <tr>\n",
       "      <th>62</th>\n",
       "      <td>Ghali</td>\n",
       "      <td>Republican</td>\n",
       "      <td>0.883254</td>\n",
       "      <td>0.875465</td>\n",
       "    </tr>\n",
       "    <tr>\n",
       "      <th>180</th>\n",
       "      <td>Josh Abernathy</td>\n",
       "      <td>Democratic</td>\n",
       "      <td>0.897067</td>\n",
       "      <td>0.878913</td>\n",
       "    </tr>\n",
       "  </tbody>\n",
       "</table>\n",
       "</div>"
      ],
      "text/plain": [
       "                             Speaker       Party  TrumpDist  BidenDist\n",
       "131                     Trace Adkins  Republican   0.772945   0.755889\n",
       "153                    Maria Cardona  Democratic   0.840596   0.810221\n",
       "151                  Bennie Thompson  Democratic   0.867158   0.844989\n",
       "13                     Jim Roosevelt  Democratic   0.878443   0.853015\n",
       "155           Julie Chavez Rodriguez  Democratic   0.879174   0.853666\n",
       "106     Candidates for naturalizaton  Republican   0.892249   0.867585\n",
       "188                            Intro  Democratic   0.901533   0.872890\n",
       "52   Imam Al-Hajj Talib Abdur-Rashid  Democratic   0.875826   0.874294\n",
       "62                             Ghali  Republican   0.883254   0.875465\n",
       "180                   Josh Abernathy  Democratic   0.897067   0.878913"
      ]
     },
     "execution_count": 28,
     "metadata": {},
     "output_type": "execute_result"
    }
   ],
   "source": [
    "# Far from Biden\n",
    "distances.sort_values(\"BidenDist\").head(n=10)"
   ]
  },
  {
   "cell_type": "code",
   "execution_count": 29,
   "metadata": {},
   "outputs": [
    {
     "data": {
      "text/html": [
       "<div>\n",
       "<style scoped>\n",
       "    .dataframe tbody tr th:only-of-type {\n",
       "        vertical-align: middle;\n",
       "    }\n",
       "\n",
       "    .dataframe tbody tr th {\n",
       "        vertical-align: top;\n",
       "    }\n",
       "\n",
       "    .dataframe thead th {\n",
       "        text-align: right;\n",
       "    }\n",
       "</style>\n",
       "<table border=\"1\" class=\"dataframe\">\n",
       "  <thead>\n",
       "    <tr style=\"text-align: right;\">\n",
       "      <th></th>\n",
       "      <th>Speaker</th>\n",
       "      <th>Party</th>\n",
       "      <th>TrumpDist</th>\n",
       "      <th>BidenDist</th>\n",
       "    </tr>\n",
       "  </thead>\n",
       "  <tbody>\n",
       "    <tr>\n",
       "      <th>142</th>\n",
       "      <td>Ann Dorin</td>\n",
       "      <td>Republican</td>\n",
       "      <td>0.981874</td>\n",
       "      <td>0.987249</td>\n",
       "    </tr>\n",
       "    <tr>\n",
       "      <th>133</th>\n",
       "      <td>Kevin McCarthy</td>\n",
       "      <td>Republican</td>\n",
       "      <td>0.989419</td>\n",
       "      <td>0.987306</td>\n",
       "    </tr>\n",
       "    <tr>\n",
       "      <th>28</th>\n",
       "      <td>Donald Trump</td>\n",
       "      <td>Republican</td>\n",
       "      <td>1.000000</td>\n",
       "      <td>0.987339</td>\n",
       "    </tr>\n",
       "    <tr>\n",
       "      <th>16</th>\n",
       "      <td>Andrew Yang</td>\n",
       "      <td>Democratic</td>\n",
       "      <td>0.976899</td>\n",
       "      <td>0.987484</td>\n",
       "    </tr>\n",
       "    <tr>\n",
       "      <th>121</th>\n",
       "      <td>Madison Cawthorn</td>\n",
       "      <td>Republican</td>\n",
       "      <td>0.990918</td>\n",
       "      <td>0.988541</td>\n",
       "    </tr>\n",
       "    <tr>\n",
       "      <th>149</th>\n",
       "      <td>Ivanka Trump</td>\n",
       "      <td>Republican</td>\n",
       "      <td>0.987721</td>\n",
       "      <td>0.990286</td>\n",
       "    </tr>\n",
       "    <tr>\n",
       "      <th>2</th>\n",
       "      <td>Michelle Obama</td>\n",
       "      <td>Democratic</td>\n",
       "      <td>0.973017</td>\n",
       "      <td>0.992036</td>\n",
       "    </tr>\n",
       "    <tr>\n",
       "      <th>7</th>\n",
       "      <td>Kamala Harris</td>\n",
       "      <td>Democratic</td>\n",
       "      <td>0.985397</td>\n",
       "      <td>0.992770</td>\n",
       "    </tr>\n",
       "    <tr>\n",
       "      <th>6</th>\n",
       "      <td>Barack Obama</td>\n",
       "      <td>Democratic</td>\n",
       "      <td>0.988619</td>\n",
       "      <td>0.993064</td>\n",
       "    </tr>\n",
       "    <tr>\n",
       "      <th>4</th>\n",
       "      <td>Joe Biden</td>\n",
       "      <td>Democratic</td>\n",
       "      <td>0.987339</td>\n",
       "      <td>1.000000</td>\n",
       "    </tr>\n",
       "  </tbody>\n",
       "</table>\n",
       "</div>"
      ],
      "text/plain": [
       "              Speaker       Party  TrumpDist  BidenDist\n",
       "142         Ann Dorin  Republican   0.981874   0.987249\n",
       "133    Kevin McCarthy  Republican   0.989419   0.987306\n",
       "28       Donald Trump  Republican   1.000000   0.987339\n",
       "16        Andrew Yang  Democratic   0.976899   0.987484\n",
       "121  Madison Cawthorn  Republican   0.990918   0.988541\n",
       "149      Ivanka Trump  Republican   0.987721   0.990286\n",
       "2      Michelle Obama  Democratic   0.973017   0.992036\n",
       "7       Kamala Harris  Democratic   0.985397   0.992770\n",
       "6        Barack Obama  Democratic   0.988619   0.993064\n",
       "4           Joe Biden  Democratic   0.987339   1.000000"
      ]
     },
     "execution_count": 29,
     "metadata": {},
     "output_type": "execute_result"
    }
   ],
   "source": [
    "# Close to Biden\n",
    "distances.sort_values(\"BidenDist\").tail(n=10)"
   ]
  },
  {
   "cell_type": "markdown",
   "metadata": {},
   "source": [
    "Take a look at the speakers who are close and far from the presidential candidates. Do these make sense to you? Play around with the filtering options at the end of the \"Creating a Numeric Vector\" section. What combinations seem to make the most sense?"
   ]
  },
  {
   "cell_type": "markdown",
   "metadata": {},
   "source": [
    "## Plotting Distances\n",
    "\n",
    "Most speakers are pretty similar to each other. Let's make a plot of the distances to Trump and Biden to get a sense of the correlational and overall space of distances."
   ]
  },
  {
   "cell_type": "code",
   "execution_count": 30,
   "metadata": {},
   "outputs": [
    {
     "data": {
      "text/plain": [
       "Text(0, 0.5, 'Biden Distances')"
      ]
     },
     "execution_count": 30,
     "metadata": {},
     "output_type": "execute_result"
    },
    {
     "data": {
      "image/png": "[encoded data removed]",
      "text/plain": [
       "<Figure size 432x288 with 1 Axes>"
      ]
     },
     "metadata": {
      "needs_background": "light"
     },
     "output_type": "display_data"
    }
   ],
   "source": [
    "fig = plt.figure()\n",
    "ax = plt.gca()\n",
    "ax.scatter(trump_dists,biden_dists , c='blue', alpha=0.2, edgecolors='none')\n",
    "ax.set_xlabel(\"Trump Distances\")\n",
    "ax.set_ylabel(\"Biden Distances\")\n"
   ]
  },
  {
   "cell_type": "markdown",
   "metadata": {},
   "source": [
    "## Recommendation Engines\n",
    "\n",
    "Brenden asked me to post this assignment \"as early as feasible\" so that he could use these ideas to recommend songs. Here we are, last day of classes, and I'm posting this exercise. Sorry Brenden!\n",
    "\n",
    "But the ideas in this exercise can work directly for recommendation engines. Who are the five speakers who are most similar to Biden? How could you use this for song lyrics?\n"
   ]
  },
  {
   "cell_type": "code",
   "execution_count": 31,
   "metadata": {},
   "outputs": [
    {
     "data": {
      "text/html": [
       "<div>\n",
       "<style scoped>\n",
       "    .dataframe tbody tr th:only-of-type {\n",
       "        vertical-align: middle;\n",
       "    }\n",
       "\n",
       "    .dataframe tbody tr th {\n",
       "        vertical-align: top;\n",
       "    }\n",
       "\n",
       "    .dataframe thead th {\n",
       "        text-align: right;\n",
       "    }\n",
       "</style>\n",
       "<table border=\"1\" class=\"dataframe\">\n",
       "  <thead>\n",
       "    <tr style=\"text-align: right;\">\n",
       "      <th></th>\n",
       "      <th>Speaker</th>\n",
       "      <th>Party</th>\n",
       "      <th>TrumpDist</th>\n",
       "      <th>BidenDist</th>\n",
       "    </tr>\n",
       "  </thead>\n",
       "  <tbody>\n",
       "    <tr>\n",
       "      <th>121</th>\n",
       "      <td>Madison Cawthorn</td>\n",
       "      <td>Republican</td>\n",
       "      <td>0.990918</td>\n",
       "      <td>0.988541</td>\n",
       "    </tr>\n",
       "    <tr>\n",
       "      <th>149</th>\n",
       "      <td>Ivanka Trump</td>\n",
       "      <td>Republican</td>\n",
       "      <td>0.987721</td>\n",
       "      <td>0.990286</td>\n",
       "    </tr>\n",
       "    <tr>\n",
       "      <th>2</th>\n",
       "      <td>Michelle Obama</td>\n",
       "      <td>Democratic</td>\n",
       "      <td>0.973017</td>\n",
       "      <td>0.992036</td>\n",
       "    </tr>\n",
       "    <tr>\n",
       "      <th>7</th>\n",
       "      <td>Kamala Harris</td>\n",
       "      <td>Democratic</td>\n",
       "      <td>0.985397</td>\n",
       "      <td>0.992770</td>\n",
       "    </tr>\n",
       "    <tr>\n",
       "      <th>6</th>\n",
       "      <td>Barack Obama</td>\n",
       "      <td>Democratic</td>\n",
       "      <td>0.988619</td>\n",
       "      <td>0.993064</td>\n",
       "    </tr>\n",
       "    <tr>\n",
       "      <th>4</th>\n",
       "      <td>Joe Biden</td>\n",
       "      <td>Democratic</td>\n",
       "      <td>0.987339</td>\n",
       "      <td>1.000000</td>\n",
       "    </tr>\n",
       "  </tbody>\n",
       "</table>\n",
       "</div>"
      ],
      "text/plain": [
       "              Speaker       Party  TrumpDist  BidenDist\n",
       "121  Madison Cawthorn  Republican   0.990918   0.988541\n",
       "149      Ivanka Trump  Republican   0.987721   0.990286\n",
       "2      Michelle Obama  Democratic   0.973017   0.992036\n",
       "7       Kamala Harris  Democratic   0.985397   0.992770\n",
       "6        Barack Obama  Democratic   0.988619   0.993064\n",
       "4           Joe Biden  Democratic   0.987339   1.000000"
      ]
     },
     "execution_count": 31,
     "metadata": {},
     "output_type": "execute_result"
    }
   ],
   "source": [
    "distances.sort_values(\"BidenDist\").tail(n=6)"
   ]
  }
 ],
 "metadata": {
  "kernelspec": {
   "display_name": "Python 3",
   "language": "python",
   "name": "python3"
  },
  "language_info": {
   "codemirror_mode": {
    "name": "ipython",
    "version": 3
   },
   "file_extension": ".py",
   "mimetype": "text/x-python",
   "name": "python",
   "nbconvert_exporter": "python",
   "pygments_lexer": "ipython3",
   "version": "3.7.3"
  }
 },
 "nbformat": 4,
 "nbformat_minor": 4
}
